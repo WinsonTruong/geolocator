{
  "cells": [
    {
      "cell_type": "markdown",
      "metadata": {
        "colab_type": "text",
        "id": "view-in-github"
      },
      "source": [
        "<a href=\"https://colab.research.google.com/github/samhita-alla/geolocator/blob/main/geolocator.ipynb\" target=\"_parent\"><img src=\"https://colab.research.google.com/assets/colab-badge.svg\" alt=\"Open In Colab\"/></a>\n"
      ]
    },
    {
      "cell_type": "markdown",
      "metadata": {
        "id": "WqX1d86PkcFb"
      },
      "source": [
        "# Video/Image Geolocator\n",
        "\n",
        "Uses a [pre-trained GeoEstimation model](https://github.com/TIBHannover/GeoEstimation) to perform video/image inferencing.\n",
        "\n",
        "- Get the video/image path. If a YouTube video, download it.\n",
        "- If a video, retrieve video frames.\n",
        "- Perform model inferencing on video frames or an image.\n",
        "- Apply DBSCAN clustering on the predicted lats and longs.\n",
        "- Retrieve the dense cluster.\n",
        "- Compute mean of lats and longs of the data points belonging to the dense cluster.\n",
        "- Predict location and retrieve plotly graph.\n",
        "\n",
        "## BentoML\n",
        "\n",
        "- Create an ONNX version of the model.\n",
        "- Generate Bento.\n",
        "- Spin up the bento service.\n",
        "\n",
        "## Library dependencies\n",
        "\n",
        "- Katna\n",
        "- Youtube DL\n",
        "- Scikit Learn\n",
        "- PyTorch Lightning\n",
        "- s2sphere\n",
        "- Geopy\n",
        "- Gradio\n",
        "- ONNX\n",
        "- ONNX Runtime\n",
        "- BentoML\n"
      ]
    },
    {
      "cell_type": "code",
      "execution_count": 1,
      "metadata": {
        "colab": {
          "base_uri": "https://localhost:8080/"
        },
        "id": "3ERC4zjStDOv",
        "outputId": "ac747c8c-64c4-453e-aa4d-b6c256e8758e"
      },
      "outputs": [],
      "source": [
        "# # install dependencies\n",
        "#%pip install -q katna youtube_dl pytorch-lightning s2sphere scikit-learn gradio bentoml onnx onnxruntime gantry"
      ]
    },
    {
      "cell_type": "code",
      "execution_count": 2,
      "metadata": {},
      "outputs": [],
      "source": [
        "# !pip3 install torch torchvision torchaudio --extra-index-url https://download.pytorch.org/whl/cu113"
      ]
    },
    {
      "cell_type": "code",
      "execution_count": 3,
      "metadata": {
        "colab": {
          "base_uri": "https://localhost:8080/"
        },
        "id": "DhchGk0zBR4H",
        "outputId": "bbc5c22d-1056-4179-c9cc-270dce8aa943"
      },
      "outputs": [
        {
          "name": "stdout",
          "output_type": "stream",
          "text": [
            "From https://github.com/samhita-alla/GeoEstimation\n",
            " * branch            HEAD       -> FETCH_HEAD\n",
            "Already up to date.\n"
          ]
        }
      ],
      "source": [
        "sh = \"\"\"\n",
        "URL=\"https://github.com/samhita-alla/GeoEstimation.git\"\n",
        "FOLDER=\"GeoEstimation\"\n",
        "if [ ! -d \"$FOLDER\" ] ; then\n",
        "    git clone $URL $FOLDER\n",
        "else\n",
        "    cd \"$FOLDER\"\n",
        "    git pull $URL\n",
        "fi\n",
        "\"\"\"\n",
        "\n",
        "with open(\"clone_script.sh\", \"w\") as file:\n",
        "  file.write(sh)\n",
        "\n",
        "!bash clone_script.sh"
      ]
    },
    {
      "cell_type": "code",
      "execution_count": 4,
      "metadata": {},
      "outputs": [],
      "source": [
        "import sys\n",
        "\n",
        "in_colab = \"google.colab\" in sys.modules\n",
        "\n",
        "if in_colab:\n",
        "  sh = \"\"\"\n",
        "  URL=\"https://github.com/samhita-alla/geolocator.git\"\n",
        "  FOLDER=\".\"\n",
        "  if [ ! -d \"$FOLDER\" ] ; then\n",
        "      git clone $URL $FOLDER\n",
        "  else\n",
        "      cd \"$FOLDER\"\n",
        "      git pull $URL\n",
        "  fi\n",
        "  \"\"\"\n",
        "\n",
        "  with open(\"clone_script.sh\", \"w\") as file:\n",
        "    file.write(sh)\n",
        "\n",
        "  !bash clone_script.sh"
      ]
    },
    {
      "cell_type": "code",
      "execution_count": 5,
      "metadata": {},
      "outputs": [
        {
          "data": {
            "text/plain": [
              "'GeoEstimation/bentofile.yaml'"
            ]
          },
          "execution_count": 5,
          "metadata": {},
          "output_type": "execute_result"
        }
      ],
      "source": [
        "import shutil\n",
        "\n",
        "shutil.copy(\"services/bentoml/service.py\", \"GeoEstimation\")\n",
        "shutil.copy(\"app/post_processing.py\", \"GeoEstimation\")\n",
        "shutil.copy(\"app/pre_processing.py\", \"GeoEstimation\")\n",
        "shutil.copy(\"services/bentoml/bentofile.yaml\", \"GeoEstimation\")\n"
      ]
    },
    {
      "cell_type": "code",
      "execution_count": 6,
      "metadata": {},
      "outputs": [
        {
          "name": "stdout",
          "output_type": "stream",
          "text": [
            "/home/team_059/geolocator/GeoEstimation\n"
          ]
        }
      ],
      "source": [
        "%cd GeoEstimation"
      ]
    },
    {
      "cell_type": "code",
      "execution_count": 7,
      "metadata": {
        "id": "w470v4dJ0DJu"
      },
      "outputs": [],
      "source": [
        "import glob\n",
        "import shutil\n",
        "\n",
        "from IPython.display import Image, display\n",
        "\n",
        "\n",
        "image_dir = None\n",
        "image_parent_dir = \"geolocator-images\"\n",
        "\n",
        "\n",
        "def display_video_frames(frames_directory: str):\n",
        "    frames = glob.glob(f\"{frames_directory}/*.jpeg\")\n",
        "\n",
        "    for frame in frames:\n",
        "        display(Image(filename=frame, width=200, height=100))\n"
      ]
    },
    {
      "cell_type": "code",
      "execution_count": 8,
      "metadata": {
        "colab": {
          "base_uri": "https://localhost:8080/"
        },
        "id": "h_d8V7oHAKy7",
        "outputId": "5a41c3b2-0804-40be-857d-17c0dcb03181"
      },
      "outputs": [],
      "source": [
        "# # download the model checkpoint & hyperparameters\n",
        "# !mkdir -p models/base_M\n",
        "# !wget https://github.com/TIBHannover/GeoEstimation/releases/download/pytorch/epoch.014-val_loss.18.4833.ckpt -O models/base_M/epoch=014-val_loss=18.4833.ckpt\n",
        "# !wget https://github.com/TIBHannover/GeoEstimation/releases/download/pytorch/hparams.yaml -O models/base_M/hparams.yaml"
      ]
    },
    {
      "cell_type": "code",
      "execution_count": 9,
      "metadata": {
        "colab": {
          "base_uri": "https://localhost:8080/"
        },
        "id": "C66x3q6wCx1X",
        "outputId": "355a175c-3afa-4ba2-a94c-1a89693bc027"
      },
      "outputs": [],
      "source": [
        "# !mkdir -p resources/s2_cells\n",
        "# !wget -nc https://raw.githubusercontent.com/TIBHannover/GeoEstimation/original_tf/geo-cells/cells_50_5000.csv -O resources/s2_cells/cells_50_5000.csv\n",
        "# !wget -nc https://raw.githubusercontent.com/TIBHannover/GeoEstimation/original_tf/geo-cells/cells_50_2000.csv -O resources/s2_cells/cells_50_2000.csv\n",
        "# !wget -nc https://raw.githubusercontent.com/TIBHannover/GeoEstimation/original_tf/geo-cells/cells_50_1000.csv -O resources/s2_cells/cells_50_1000.csv"
      ]
    },
    {
      "cell_type": "code",
      "execution_count": 10,
      "metadata": {},
      "outputs": [],
      "source": [
        "# %pip install geopy plotly youtube_dl"
      ]
    },
    {
      "cell_type": "code",
      "execution_count": 11,
      "metadata": {
        "id": "JONFjkWkA5ta"
      },
      "outputs": [],
      "source": [
        "import logging\n",
        "import os\n",
        "import subprocess\n",
        "from pathlib import Path\n",
        "from typing import List, Tuple\n",
        "\n",
        "import matplotlib.pyplot as plt\n",
        "import numpy as np\n",
        "import pandas as pd\n",
        "import plotly\n",
        "import plotly.express as px\n",
        "from generate_map import get_plotly_graph\n",
        "\n",
        "from geopy.extra.rate_limiter import RateLimiter\n",
        "from geopy.geocoders import Nominatim\n",
        "from IPython.core.profiledir import LoggingConfigurable\n",
        "from post_processing import generate_prediction_logit\n",
        "from sklearn.cluster import DBSCAN\n",
        "from sklearn.preprocessing import StandardScaler\n",
        "\n",
        "\n",
        "def data_engineering(image_dir: str) -> pd.DataFrame:\n",
        "    inference_file_path = os.path.join(\n",
        "        \"models/base_M\",\n",
        "        f\"inference_{Path(os.path.join('/content', image_dir)).stem}.csv\",\n",
        "    )\n",
        "    inference_df = pd.read_csv(inference_file_path)\n",
        "    logging.info(f\"Inference DF: {inference_df.head()}\")\n",
        "\n",
        "    return inference_df\n",
        "\n",
        "\n",
        "def generate_prediction(image_dir: str, num_workers: int = 0) -> Tuple[str, plotly.graph_objects.Figure]:\n",
        "    # generate predictions on all the video frames\n",
        "    subprocess.run(\n",
        "        [\n",
        "            \"python\",\n",
        "            \"-m\",\n",
        "            \"classification.inference\",\n",
        "            \"--image_dir\",\n",
        "            image_dir,\n",
        "            \"--checkpoint\",\n",
        "            \"models/base_M/epoch=014-val_loss=18.4833.ckpt\",\n",
        "            \"--hparams\",\n",
        "            \"models/base_M/hparams.yaml\",\n",
        "            \"--num_workers\",\n",
        "            str(num_workers)\n",
        "        ],\n",
        "        capture_output=True,\n",
        "    )\n",
        "\n",
        "    # data engineering\n",
        "    inference_df = data_engineering(image_dir=image_dir)\n",
        "\n",
        "    # get location\n",
        "    location, latitude, longitude = generate_prediction_logit(\n",
        "        inference_df=inference_df\n",
        "    )\n",
        "\n",
        "    return location, get_plotly_graph(\n",
        "        latitude=latitude, longitude=longitude, location=location\n",
        "    )\n"
      ]
    },
    {
      "cell_type": "code",
      "execution_count": 12,
      "metadata": {
        "id": "zBmqdRsYastQ"
      },
      "outputs": [],
      "source": [
        "from typing import Any, Dict\n",
        "\n",
        "from pre_processing import capture_frames, extract_youtube_video\n",
        "\n",
        "\n",
        "IMAGE_PARENT_DIR = \"geolocator-images\"\n",
        "\n",
        "\n",
        "def create_image_dir(img_file: str) -> str:\n",
        "    image_dir = os.path.join(IMAGE_PARENT_DIR, os.path.basename(img_file).split(\".\")[0])\n",
        "\n",
        "    # clear the image directory before filling it up\n",
        "    shutil.rmtree(image_dir, ignore_errors=True)\n",
        "    os.makedirs(image_dir)\n",
        "    shutil.copy(img_file, image_dir)\n",
        "\n",
        "    return image_dir\n",
        "\n",
        "\n",
        "def img_processor(img_file: str) -> Tuple[str, plotly.graph_objects.Figure]:\n",
        "    image_dir = create_image_dir(img_file=img_file)\n",
        "    return generate_prediction(image_dir=image_dir)\n",
        "\n",
        "\n",
        "def video_helper(\n",
        "    video_file: str, info_dict: Dict[str, Any]\n",
        ") -> Tuple[str, plotly.graph_objects.Figure]:\n",
        "    # capture frames\n",
        "    frames_directory = capture_frames(video_file_path=video_file, info_dict=info_dict)\n",
        "    display_video_frames(frames_directory=frames_directory)\n",
        "\n",
        "    image_dir = frames_directory\n",
        "    return generate_prediction(image_dir=image_dir)\n",
        "\n",
        "\n",
        "def video_processor(video_file: str) -> Tuple[str, plotly.graph_objects.Figure]:\n",
        "    info_dict = {\"id\": os.path.basename(video_file).split(\".\")[0]}\n",
        "    return video_helper(video_file=video_file, info_dict=info_dict)\n",
        "\n",
        "def url_processor(url: str) -> Tuple[str, plotly.graph_objects.Figure]:\n",
        "    video_file, info_dict = extract_youtube_video(url=url)\n",
        "    return video_helper(video_file=video_file, info_dict=info_dict)\n"
      ]
    },
    {
      "cell_type": "code",
      "execution_count": 13,
      "metadata": {
        "colab": {
          "base_uri": "https://localhost:8080/"
        },
        "id": "76htoqT2T4GZ",
        "outputId": "d6347ecb-5555-47ee-85cf-ee8b90c5de41"
      },
      "outputs": [],
      "source": [
        "# validation\n",
        "#url_processor(url=\"https://www.youtube.com/watch?v=ADt1LnbL2HI\")\n",
        "#!wget -nc https://thumbs.dreamstime.com/b/santorini-island-greece-santorini-island-greece-oia-town-traditional-white-houses-churches-blue-domes-over-caldera-146011399.jpg\n",
        "#img_processor(\"santorini-island-greece-santorini-island-greece-oia-town-traditional-white-houses-churches-blue-domes-over-caldera-146011399.jpg\")"
      ]
    },
    {
      "cell_type": "markdown",
      "metadata": {
        "id": "RaTTiiqbfBP5"
      },
      "source": [
        "# BentoML w/ ONNX\n"
      ]
    },
    {
      "cell_type": "code",
      "execution_count": 14,
      "metadata": {
        "colab": {
          "base_uri": "https://localhost:8080/",
          "height": 387,
          "referenced_widgets": [
            "40c3c9be56914211bb5048c9fd7cc40a",
            "8f8190d1b69a4f168d21b29c78cd84d9",
            "6b265cd76acf4e67ac55f7ea5cf901cd",
            "f1cc183a0ced424590b81c12617c2f76",
            "842dcb9bab64471ba5a39c771e18dd36",
            "8c5d6f34286f450da41007b70827ae81",
            "1310aae7788042b9b31389c27880b72d",
            "c18c4501bf47445cb310297e171a8d5d",
            "7a23ce07771f4a97afcaa604d01f46ff",
            "989246c8eb72402ea30b2cb69c9a28f6",
            "5302e12540844322a08a2a6859228094",
            "ac162533195642c3bfe48901debc444a",
            "d1eb915bfa04407d931c76b4fd8b11b6",
            "aa18b2b9d408449097b2fe9e5404e01b",
            "61e1c19da37e42bdaa213c5f417621cc",
            "f4c5aaace38247a9b1a7b7ee31e89fe9",
            "501a1a2f42554003b1395b4b0d391b1a",
            "f403773b4f2542e48bd91c9328300aed",
            "5b0d8206ad7c4672a19da6adf4102e41",
            "6beb89bc81e648f68a1d50956c070aad",
            "136d388675214f359d40ec21f9fa4ebc",
            "c793ac7ae3fb4ac797623ef1847efd9c"
          ]
        },
        "id": "1_0y-NqE0bsv",
        "outputId": "56243ba0-052c-4b04-a06a-65b18600d69b"
      },
      "outputs": [
        {
          "name": "stderr",
          "output_type": "stream",
          "text": [
            "/home/team_059/.local/lib/python3.8/site-packages/tqdm/auto.py:22: TqdmWarning: IProgress not found. Please update jupyter and ipywidgets. See https://ipywidgets.readthedocs.io/en/stable/user_install.html\n",
            "  from .autonotebook import tqdm as notebook_tqdm\n",
            "/home/team_059/mambaforge/envs/geoestimation-github-pytorch/lib/python3.8/site-packages/torchvision/models/_utils.py:208: UserWarning: The parameter 'pretrained' is deprecated since 0.13 and will be removed in 0.15, please use 'weights' instead.\n",
            "  warnings.warn(\n",
            "/home/team_059/mambaforge/envs/geoestimation-github-pytorch/lib/python3.8/site-packages/torchvision/models/_utils.py:223: UserWarning: Arguments other than a weight enum or `None` for 'weights' are deprecated since 0.13 and will be removed in 0.15. The current behavior is equivalent to passing `weights=ResNet50_Weights.IMAGENET1K_V1`. You can also use `weights=ResNet50_Weights.DEFAULT` to get the most up-to-date weights.\n",
            "  warnings.warn(msg)\n"
          ]
        },
        {
          "name": "stdout",
          "output_type": "stream",
          "text": [
            "File ‘santorini-island-greece-santorini-island-greece-oia-town-traditional-white-houses-churches-blue-domes-over-caldera-146011399.jpg’ already there; not retrieving.\n",
            "\n"
          ]
        }
      ],
      "source": [
        "from math import ceil\n",
        "\n",
        "import torch\n",
        "from classification.dataset import FiveCropImageDataset\n",
        "from classification.train_base import MultiPartitioningClassifier\n",
        "from tqdm.auto import tqdm\n",
        "\n",
        "\n",
        "model = MultiPartitioningClassifier.load_from_checkpoint(\n",
        "    checkpoint_path=\"models/base_M/epoch=014-val_loss=18.4833.ckpt\",\n",
        "    hparams_file=\"models/base_M/hparams.yaml\",\n",
        "    map_location=None,\n",
        ")\n",
        "\n",
        "#get example image so we can format with onnx\n",
        "!wget -nc https://thumbs.dreamstime.com/b/santorini-island-greece-santorini-island-greece-oia-town-traditional-white-houses-churches-blue-domes-over-caldera-146011399.jpg\n",
        "image_dir = create_image_dir(img_file=\"santorini-island-greece-santorini-island-greece-oia-town-traditional-white-houses-churches-blue-domes-over-caldera-146011399.jpg\")\n",
        "\n",
        "dataloader = torch.utils.data.DataLoader(\n",
        "    FiveCropImageDataset(meta_csv=None, image_dir=image_dir),\n",
        "    batch_size=1,\n",
        "    shuffle=False,\n",
        "    num_workers=0,\n",
        ")\n",
        "\n",
        "images, meta_batch = next(iter(dataloader))\n",
        "cur_batch_size = images.shape[0]\n",
        "ncrops = images.shape[1]\n",
        "\n",
        "# reshape crop dimension to batch\n",
        "images = torch.reshape(images, (cur_batch_size * ncrops, *images.shape[2:]))\n",
        "\n",
        "# model.to_onnx(\n",
        "#   \"geolocator.onnx\",\n",
        "#   input_sample=images,\n",
        "#   export_params=True,\n",
        "#   opset_version=11,\n",
        "#   input_names=[\"input\"],\n",
        "#   output_names=[\"output\"],\n",
        "#   dynamic_axes={'input' : {0 : 'batch_size'},    # variable length axes\n",
        "#                 'output' : {0 : 'batch_size'}}\n",
        "# )"
      ]
    },
    {
      "cell_type": "code",
      "execution_count": 15,
      "metadata": {
        "colab": {
          "base_uri": "https://localhost:8080/"
        },
        "id": "8iHtF_MJA10P",
        "outputId": "453bd691-f6e8-4704-c332-7c34aae3ef4b"
      },
      "outputs": [],
      "source": [
        "# import onnxruntime\n",
        "# def to_numpy(tensor):\n",
        "#     return (\n",
        "#         tensor.detach().cpu().numpy() if tensor.requires_grad else tensor.cpu().numpy()\n",
        "#     )\n",
        "# ort_session = onnxruntime.InferenceSession(\"geolocator.onnx\")\n",
        "\n",
        "# # compute ONNX Runtime output prediction\n",
        "# ort_inputs = {ort_session.get_inputs()[0].name: to_numpy(images)}\n",
        "\n",
        "# # ONNX Runtime will return a list of outputs\n",
        "# ort_outs = ort_session.run(None, ort_inputs)\n",
        "# ort_outs\n"
      ]
    },
    {
      "cell_type": "code",
      "execution_count": 16,
      "metadata": {
        "colab": {
          "base_uri": "https://localhost:8080/"
        },
        "id": "kOEwFrpfveGg",
        "outputId": "ed1f68e3-58e0-4b06-87de-d4f0d28c8341"
      },
      "outputs": [],
      "source": [
        "# import bentoml\n",
        "# import onnx\n",
        "\n",
        "# bentoml.onnx.save_model(\"onnx_geolocator\", onnx.load(\"geolocator.onnx\"))"
      ]
    },
    {
      "cell_type": "code",
      "execution_count": 17,
      "metadata": {},
      "outputs": [],
      "source": [
        "# %cd GeoEstimation"
      ]
    },
    {
      "cell_type": "code",
      "execution_count": 18,
      "metadata": {
        "id": "D48UkGm7kA0d"
      },
      "outputs": [],
      "source": [
        "# # run bentoml service\n",
        "# !bentoml serve service:svc --reload --port 3000"
      ]
    },
    {
      "cell_type": "markdown",
      "metadata": {
        "id": "Ydzj3hvPZ8F2"
      },
      "source": [
        "# Gradio\n",
        "\n",
        "For the UI part, Gradio is being used.\n"
      ]
    },
    {
      "cell_type": "code",
      "execution_count": 19,
      "metadata": {
        "colab": {
          "base_uri": "https://localhost:8080/",
          "height": 717
        },
        "id": "f5I_XZIjNL_c",
        "outputId": "867ca617-f523-4442-9fa4-58090035e62a"
      },
      "outputs": [],
      "source": [
        "# import gradio as gr\n",
        "\n",
        "\n",
        "# with gr.Blocks() as demo:\n",
        "#     gr.Markdown(\"# GeoLocator\")\n",
        "#     gr.Markdown(\n",
        "#         \"An app that guesses the location of an image 🌌, a video 📹 or a YouTube link 🔗.\"\n",
        "#     )\n",
        "#     with gr.Tab(\"Image\"):\n",
        "#         with gr.Row():\n",
        "#             img_input = gr.Image(type=\"filepath\")\n",
        "#             with gr.Column():\n",
        "#                 img_text_output = gr.Textbox(label=\"Location\")\n",
        "#                 img_plot = gr.Plot()\n",
        "#         img_text_button = gr.Button(\"Go locate!\")\n",
        "#     with gr.Tab(\"Video\"):\n",
        "#         with gr.Row():\n",
        "#             video_input = gr.Video(type=\"filepath\")\n",
        "#             with gr.Column():\n",
        "#                 video_text_output = gr.Textbox(label=\"Location\")\n",
        "#                 video_plot = gr.Plot()\n",
        "#         video_text_button = gr.Button(\"Go locate!\")\n",
        "#     with gr.Tab(\"YouTube Link\"):\n",
        "#         with gr.Row():\n",
        "#             url_input = gr.Textbox(label=\"YouTube video link\")\n",
        "#             with gr.Column():\n",
        "#                 url_text_output = gr.Textbox(label=\"Location\")\n",
        "#                 url_plot = gr.Plot()\n",
        "#         url_text_button = gr.Button(\"Go locate!\")\n",
        "\n",
        "#     img_text_button.click(\n",
        "#         img_processor, inputs=img_input, outputs=[img_text_output, img_plot]\n",
        "#     )\n",
        "#     video_text_button.click(\n",
        "#         video_processor, inputs=video_input, outputs=[video_text_output, video_plot]\n",
        "#     )\n",
        "#     url_text_button.click(\n",
        "#         url_processor, inputs=url_input, outputs=[url_text_output, url_plot]\n",
        "#     )\n",
        "\n",
        "#     examples = gr.Examples(\n",
        "#         examples=[\"https://www.youtube.com/watch?v=wxeQkJTZrsw\"], inputs=[url_input]\n",
        "#     )\n",
        "\n",
        "# demo.launch(share = True)\n"
      ]
    },
    {
      "cell_type": "code",
      "execution_count": 22,
      "metadata": {},
      "outputs": [
        {
          "name": "stdout",
          "output_type": "stream",
          "text": [
            "Running on local URL:  http://127.0.0.1:7860\n",
            "Running on public URL: https://21253.gradio.app\n",
            "\n",
            "This share link expires in 72 hours. For free permanent hosting, check out Spaces: https://huggingface.co/spaces\n"
          ]
        },
        {
          "data": {
            "text/html": [
              "<div><iframe src=\"https://21253.gradio.app\" width=\"900\" height=\"500\" allow=\"autoplay; camera; microphone; clipboard-read; clipboard-write;\" frameborder=\"0\" allowfullscreen></iframe></div>"
            ],
            "text/plain": [
              "<IPython.core.display.HTML object>"
            ]
          },
          "metadata": {},
          "output_type": "display_data"
        },
        {
          "data": {
            "text/plain": [
              "(<gradio.routes.App at 0x7fa250f937f0>,\n",
              " 'http://127.0.0.1:7860/',\n",
              " 'https://21253.gradio.app')"
            ]
          },
          "execution_count": 22,
          "metadata": {},
          "output_type": "execute_result"
        },
        {
          "name": "stderr",
          "output_type": "stream",
          "text": [
            "Traceback (most recent call last):\n",
            "  File \"/home/team_059/.local/lib/python3.8/site-packages/gradio/routes.py\", line 275, in run_predict\n",
            "    output = await app.blocks.process_api(\n",
            "  File \"/home/team_059/.local/lib/python3.8/site-packages/gradio/blocks.py\", line 745, in process_api\n",
            "    result = await self.call_function(fn_index, inputs, iterator)\n",
            "  File \"/home/team_059/.local/lib/python3.8/site-packages/gradio/blocks.py\", line 656, in call_function\n",
            "    prediction = await anyio.to_thread.run_sync(\n",
            "  File \"/home/team_059/.local/lib/python3.8/site-packages/anyio/to_thread.py\", line 31, in run_sync\n",
            "    return await get_asynclib().run_sync_in_worker_thread(\n",
            "  File \"/home/team_059/.local/lib/python3.8/site-packages/anyio/_backends/_asyncio.py\", line 937, in run_sync_in_worker_thread\n",
            "    return await future\n",
            "  File \"/home/team_059/.local/lib/python3.8/site-packages/anyio/_backends/_asyncio.py\", line 867, in run\n",
            "    result = context.run(func, *args)\n",
            "  File \"/tmp/ipykernel_922750/2466262845.py\", line 22, in img_processor\n",
            "    return generate_prediction(image_dir=image_dir)\n",
            "  File \"/tmp/ipykernel_922750/2285007991.py\", line 53, in generate_prediction\n",
            "    inference_df = data_engineering(image_dir=image_dir)\n",
            "  File \"/tmp/ipykernel_922750/2285007991.py\", line 27, in data_engineering\n",
            "    inference_df = pd.read_csv(inference_file_path)\n",
            "  File \"/home/team_059/mambaforge/envs/geoestimation-github-pytorch/lib/python3.8/site-packages/pandas/io/parsers.py\", line 688, in read_csv\n",
            "    return _read(filepath_or_buffer, kwds)\n",
            "  File \"/home/team_059/mambaforge/envs/geoestimation-github-pytorch/lib/python3.8/site-packages/pandas/io/parsers.py\", line 454, in _read\n",
            "    parser = TextFileReader(fp_or_buf, **kwds)\n",
            "  File \"/home/team_059/mambaforge/envs/geoestimation-github-pytorch/lib/python3.8/site-packages/pandas/io/parsers.py\", line 948, in __init__\n",
            "    self._make_engine(self.engine)\n",
            "  File \"/home/team_059/mambaforge/envs/geoestimation-github-pytorch/lib/python3.8/site-packages/pandas/io/parsers.py\", line 1180, in _make_engine\n",
            "    self._engine = CParserWrapper(self.f, **self.options)\n",
            "  File \"/home/team_059/mambaforge/envs/geoestimation-github-pytorch/lib/python3.8/site-packages/pandas/io/parsers.py\", line 2010, in __init__\n",
            "    self._reader = parsers.TextReader(src, **kwds)\n",
            "  File \"pandas/_libs/parsers.pyx\", line 382, in pandas._libs.parsers.TextReader.__cinit__\n",
            "  File \"pandas/_libs/parsers.pyx\", line 674, in pandas._libs.parsers.TextReader._setup_parser_source\n",
            "FileNotFoundError: [Errno 2] No such file or directory: 'models/base_M/inference_tmpqw2w2glb.csv'\n"
          ]
        }
      ],
      "source": [
        "import gradio as gr\n",
        "import gantry\n",
        "\n",
        "from GantryUtility.GantryImageToTextLogger import *\n",
        "from GantryUtility.s3_util import *\n",
        "\n",
        "#callback = GantryImageToTextLogger(application=f'geolocatorfsdltest{counter}', api_key='vF2evd4hBG1t20BN0-on6UlphK0')\n",
        "\n",
        "frontend = gr.Interface(\n",
        "    fn=img_processor,  # which Python function are we interacting with?\n",
        "    outputs=[gr.components.Textbox(). gr.Plot()],  # what output widgets does it need? the default text widget\n",
        "    inputs=gr.components.Image(type=\"filepath\"),\n",
        "    title=\"Gantry + Gradio + Img Processor\",  # what should we display at the top of the page?\n",
        "    allow_flagging=\"manual\",  # should we show users the option to \"flag\" outputs?\n",
        "    flagging_options=[\"Wrong Country\", \"Output Doesn't Make Sense!\"],  # what options do users have for feedback?\n",
        "    flagging_callback=GantryImageToTextLogger(application=f'fsdl-geolocator-dev', api_key='vF2evd4hBG1t20BN0-on6UlphK0'),\n",
        "    flagging_dir=make_unique_bucket_name(f\"fsdl-geolocator-dev\", seed = '420')\n",
        ")\n",
        "frontend.launch(share = True)"
      ]
    },
    {
      "cell_type": "code",
      "execution_count": null,
      "metadata": {},
      "outputs": [],
      "source": []
    }
  ],
  "metadata": {
    "accelerator": "GPU",
    "colab": {
      "authorship_tag": "ABX9TyPttbnJlDtRh5zbIjhjiuuu",
      "collapsed_sections": [],
      "include_colab_link": true,
      "provenance": []
    },
    "kernelspec": {
      "display_name": "geoestimation",
      "language": "python",
      "name": "geoestimation-github-pytorch"
    },
    "language_info": {
      "codemirror_mode": {
        "name": "ipython",
        "version": 3
      },
      "file_extension": ".py",
      "mimetype": "text/x-python",
      "name": "python",
      "nbconvert_exporter": "python",
      "pygments_lexer": "ipython3",
      "version": "3.8.13"
    },
    "widgets": {
      "application/vnd.jupyter.widget-state+json": {
        "1310aae7788042b9b31389c27880b72d": {
          "model_module": "@jupyter-widgets/controls",
          "model_module_version": "1.5.0",
          "model_name": "DescriptionStyleModel",
          "state": {
            "_model_module": "@jupyter-widgets/controls",
            "_model_module_version": "1.5.0",
            "_model_name": "DescriptionStyleModel",
            "_view_count": null,
            "_view_module": "@jupyter-widgets/base",
            "_view_module_version": "1.2.0",
            "_view_name": "StyleView",
            "description_width": ""
          }
        },
        "136d388675214f359d40ec21f9fa4ebc": {
          "model_module": "@jupyter-widgets/base",
          "model_module_version": "1.2.0",
          "model_name": "LayoutModel",
          "state": {
            "_model_module": "@jupyter-widgets/base",
            "_model_module_version": "1.2.0",
            "_model_name": "LayoutModel",
            "_view_count": null,
            "_view_module": "@jupyter-widgets/base",
            "_view_module_version": "1.2.0",
            "_view_name": "LayoutView",
            "align_content": null,
            "align_items": null,
            "align_self": null,
            "border": null,
            "bottom": null,
            "display": null,
            "flex": null,
            "flex_flow": null,
            "grid_area": null,
            "grid_auto_columns": null,
            "grid_auto_flow": null,
            "grid_auto_rows": null,
            "grid_column": null,
            "grid_gap": null,
            "grid_row": null,
            "grid_template_areas": null,
            "grid_template_columns": null,
            "grid_template_rows": null,
            "height": null,
            "justify_content": null,
            "justify_items": null,
            "left": null,
            "margin": null,
            "max_height": null,
            "max_width": null,
            "min_height": null,
            "min_width": null,
            "object_fit": null,
            "object_position": null,
            "order": null,
            "overflow": null,
            "overflow_x": null,
            "overflow_y": null,
            "padding": null,
            "right": null,
            "top": null,
            "visibility": null,
            "width": null
          }
        },
        "40c3c9be56914211bb5048c9fd7cc40a": {
          "model_module": "@jupyter-widgets/controls",
          "model_module_version": "1.5.0",
          "model_name": "HBoxModel",
          "state": {
            "_dom_classes": [],
            "_model_module": "@jupyter-widgets/controls",
            "_model_module_version": "1.5.0",
            "_model_name": "HBoxModel",
            "_view_count": null,
            "_view_module": "@jupyter-widgets/controls",
            "_view_module_version": "1.5.0",
            "_view_name": "HBoxView",
            "box_style": "",
            "children": [
              "IPY_MODEL_8f8190d1b69a4f168d21b29c78cd84d9",
              "IPY_MODEL_6b265cd76acf4e67ac55f7ea5cf901cd",
              "IPY_MODEL_f1cc183a0ced424590b81c12617c2f76"
            ],
            "layout": "IPY_MODEL_842dcb9bab64471ba5a39c771e18dd36"
          }
        },
        "501a1a2f42554003b1395b4b0d391b1a": {
          "model_module": "@jupyter-widgets/base",
          "model_module_version": "1.2.0",
          "model_name": "LayoutModel",
          "state": {
            "_model_module": "@jupyter-widgets/base",
            "_model_module_version": "1.2.0",
            "_model_name": "LayoutModel",
            "_view_count": null,
            "_view_module": "@jupyter-widgets/base",
            "_view_module_version": "1.2.0",
            "_view_name": "LayoutView",
            "align_content": null,
            "align_items": null,
            "align_self": null,
            "border": null,
            "bottom": null,
            "display": null,
            "flex": null,
            "flex_flow": null,
            "grid_area": null,
            "grid_auto_columns": null,
            "grid_auto_flow": null,
            "grid_auto_rows": null,
            "grid_column": null,
            "grid_gap": null,
            "grid_row": null,
            "grid_template_areas": null,
            "grid_template_columns": null,
            "grid_template_rows": null,
            "height": null,
            "justify_content": null,
            "justify_items": null,
            "left": null,
            "margin": null,
            "max_height": null,
            "max_width": null,
            "min_height": null,
            "min_width": null,
            "object_fit": null,
            "object_position": null,
            "order": null,
            "overflow": null,
            "overflow_x": null,
            "overflow_y": null,
            "padding": null,
            "right": null,
            "top": null,
            "visibility": null,
            "width": null
          }
        },
        "5302e12540844322a08a2a6859228094": {
          "model_module": "@jupyter-widgets/controls",
          "model_module_version": "1.5.0",
          "model_name": "DescriptionStyleModel",
          "state": {
            "_model_module": "@jupyter-widgets/controls",
            "_model_module_version": "1.5.0",
            "_model_name": "DescriptionStyleModel",
            "_view_count": null,
            "_view_module": "@jupyter-widgets/base",
            "_view_module_version": "1.2.0",
            "_view_name": "StyleView",
            "description_width": ""
          }
        },
        "5b0d8206ad7c4672a19da6adf4102e41": {
          "model_module": "@jupyter-widgets/base",
          "model_module_version": "1.2.0",
          "model_name": "LayoutModel",
          "state": {
            "_model_module": "@jupyter-widgets/base",
            "_model_module_version": "1.2.0",
            "_model_name": "LayoutModel",
            "_view_count": null,
            "_view_module": "@jupyter-widgets/base",
            "_view_module_version": "1.2.0",
            "_view_name": "LayoutView",
            "align_content": null,
            "align_items": null,
            "align_self": null,
            "border": null,
            "bottom": null,
            "display": null,
            "flex": null,
            "flex_flow": null,
            "grid_area": null,
            "grid_auto_columns": null,
            "grid_auto_flow": null,
            "grid_auto_rows": null,
            "grid_column": null,
            "grid_gap": null,
            "grid_row": null,
            "grid_template_areas": null,
            "grid_template_columns": null,
            "grid_template_rows": null,
            "height": null,
            "justify_content": null,
            "justify_items": null,
            "left": null,
            "margin": null,
            "max_height": null,
            "max_width": null,
            "min_height": null,
            "min_width": null,
            "object_fit": null,
            "object_position": null,
            "order": null,
            "overflow": null,
            "overflow_x": null,
            "overflow_y": null,
            "padding": null,
            "right": null,
            "top": null,
            "visibility": null,
            "width": null
          }
        },
        "61e1c19da37e42bdaa213c5f417621cc": {
          "model_module": "@jupyter-widgets/controls",
          "model_module_version": "1.5.0",
          "model_name": "HTMLModel",
          "state": {
            "_dom_classes": [],
            "_model_module": "@jupyter-widgets/controls",
            "_model_module_version": "1.5.0",
            "_model_name": "HTMLModel",
            "_view_count": null,
            "_view_module": "@jupyter-widgets/controls",
            "_view_module_version": "1.5.0",
            "_view_name": "HTMLView",
            "description": "",
            "description_tooltip": null,
            "layout": "IPY_MODEL_136d388675214f359d40ec21f9fa4ebc",
            "placeholder": "​",
            "style": "IPY_MODEL_c793ac7ae3fb4ac797623ef1847efd9c",
            "value": " 0/1 [00:00&lt;?, ?it/s]"
          }
        },
        "6b265cd76acf4e67ac55f7ea5cf901cd": {
          "model_module": "@jupyter-widgets/controls",
          "model_module_version": "1.5.0",
          "model_name": "FloatProgressModel",
          "state": {
            "_dom_classes": [],
            "_model_module": "@jupyter-widgets/controls",
            "_model_module_version": "1.5.0",
            "_model_name": "FloatProgressModel",
            "_view_count": null,
            "_view_module": "@jupyter-widgets/controls",
            "_view_module_version": "1.5.0",
            "_view_name": "ProgressView",
            "bar_style": "success",
            "description": "",
            "description_tooltip": null,
            "layout": "IPY_MODEL_c18c4501bf47445cb310297e171a8d5d",
            "max": 102530333,
            "min": 0,
            "orientation": "horizontal",
            "style": "IPY_MODEL_7a23ce07771f4a97afcaa604d01f46ff",
            "value": 102530333
          }
        },
        "6beb89bc81e648f68a1d50956c070aad": {
          "model_module": "@jupyter-widgets/controls",
          "model_module_version": "1.5.0",
          "model_name": "ProgressStyleModel",
          "state": {
            "_model_module": "@jupyter-widgets/controls",
            "_model_module_version": "1.5.0",
            "_model_name": "ProgressStyleModel",
            "_view_count": null,
            "_view_module": "@jupyter-widgets/base",
            "_view_module_version": "1.2.0",
            "_view_name": "StyleView",
            "bar_color": null,
            "description_width": ""
          }
        },
        "7a23ce07771f4a97afcaa604d01f46ff": {
          "model_module": "@jupyter-widgets/controls",
          "model_module_version": "1.5.0",
          "model_name": "ProgressStyleModel",
          "state": {
            "_model_module": "@jupyter-widgets/controls",
            "_model_module_version": "1.5.0",
            "_model_name": "ProgressStyleModel",
            "_view_count": null,
            "_view_module": "@jupyter-widgets/base",
            "_view_module_version": "1.2.0",
            "_view_name": "StyleView",
            "bar_color": null,
            "description_width": ""
          }
        },
        "842dcb9bab64471ba5a39c771e18dd36": {
          "model_module": "@jupyter-widgets/base",
          "model_module_version": "1.2.0",
          "model_name": "LayoutModel",
          "state": {
            "_model_module": "@jupyter-widgets/base",
            "_model_module_version": "1.2.0",
            "_model_name": "LayoutModel",
            "_view_count": null,
            "_view_module": "@jupyter-widgets/base",
            "_view_module_version": "1.2.0",
            "_view_name": "LayoutView",
            "align_content": null,
            "align_items": null,
            "align_self": null,
            "border": null,
            "bottom": null,
            "display": null,
            "flex": null,
            "flex_flow": null,
            "grid_area": null,
            "grid_auto_columns": null,
            "grid_auto_flow": null,
            "grid_auto_rows": null,
            "grid_column": null,
            "grid_gap": null,
            "grid_row": null,
            "grid_template_areas": null,
            "grid_template_columns": null,
            "grid_template_rows": null,
            "height": null,
            "justify_content": null,
            "justify_items": null,
            "left": null,
            "margin": null,
            "max_height": null,
            "max_width": null,
            "min_height": null,
            "min_width": null,
            "object_fit": null,
            "object_position": null,
            "order": null,
            "overflow": null,
            "overflow_x": null,
            "overflow_y": null,
            "padding": null,
            "right": null,
            "top": null,
            "visibility": null,
            "width": null
          }
        },
        "8c5d6f34286f450da41007b70827ae81": {
          "model_module": "@jupyter-widgets/base",
          "model_module_version": "1.2.0",
          "model_name": "LayoutModel",
          "state": {
            "_model_module": "@jupyter-widgets/base",
            "_model_module_version": "1.2.0",
            "_model_name": "LayoutModel",
            "_view_count": null,
            "_view_module": "@jupyter-widgets/base",
            "_view_module_version": "1.2.0",
            "_view_name": "LayoutView",
            "align_content": null,
            "align_items": null,
            "align_self": null,
            "border": null,
            "bottom": null,
            "display": null,
            "flex": null,
            "flex_flow": null,
            "grid_area": null,
            "grid_auto_columns": null,
            "grid_auto_flow": null,
            "grid_auto_rows": null,
            "grid_column": null,
            "grid_gap": null,
            "grid_row": null,
            "grid_template_areas": null,
            "grid_template_columns": null,
            "grid_template_rows": null,
            "height": null,
            "justify_content": null,
            "justify_items": null,
            "left": null,
            "margin": null,
            "max_height": null,
            "max_width": null,
            "min_height": null,
            "min_width": null,
            "object_fit": null,
            "object_position": null,
            "order": null,
            "overflow": null,
            "overflow_x": null,
            "overflow_y": null,
            "padding": null,
            "right": null,
            "top": null,
            "visibility": null,
            "width": null
          }
        },
        "8f8190d1b69a4f168d21b29c78cd84d9": {
          "model_module": "@jupyter-widgets/controls",
          "model_module_version": "1.5.0",
          "model_name": "HTMLModel",
          "state": {
            "_dom_classes": [],
            "_model_module": "@jupyter-widgets/controls",
            "_model_module_version": "1.5.0",
            "_model_name": "HTMLModel",
            "_view_count": null,
            "_view_module": "@jupyter-widgets/controls",
            "_view_module_version": "1.5.0",
            "_view_name": "HTMLView",
            "description": "",
            "description_tooltip": null,
            "layout": "IPY_MODEL_8c5d6f34286f450da41007b70827ae81",
            "placeholder": "​",
            "style": "IPY_MODEL_1310aae7788042b9b31389c27880b72d",
            "value": "100%"
          }
        },
        "989246c8eb72402ea30b2cb69c9a28f6": {
          "model_module": "@jupyter-widgets/base",
          "model_module_version": "1.2.0",
          "model_name": "LayoutModel",
          "state": {
            "_model_module": "@jupyter-widgets/base",
            "_model_module_version": "1.2.0",
            "_model_name": "LayoutModel",
            "_view_count": null,
            "_view_module": "@jupyter-widgets/base",
            "_view_module_version": "1.2.0",
            "_view_name": "LayoutView",
            "align_content": null,
            "align_items": null,
            "align_self": null,
            "border": null,
            "bottom": null,
            "display": null,
            "flex": null,
            "flex_flow": null,
            "grid_area": null,
            "grid_auto_columns": null,
            "grid_auto_flow": null,
            "grid_auto_rows": null,
            "grid_column": null,
            "grid_gap": null,
            "grid_row": null,
            "grid_template_areas": null,
            "grid_template_columns": null,
            "grid_template_rows": null,
            "height": null,
            "justify_content": null,
            "justify_items": null,
            "left": null,
            "margin": null,
            "max_height": null,
            "max_width": null,
            "min_height": null,
            "min_width": null,
            "object_fit": null,
            "object_position": null,
            "order": null,
            "overflow": null,
            "overflow_x": null,
            "overflow_y": null,
            "padding": null,
            "right": null,
            "top": null,
            "visibility": null,
            "width": null
          }
        },
        "aa18b2b9d408449097b2fe9e5404e01b": {
          "model_module": "@jupyter-widgets/controls",
          "model_module_version": "1.5.0",
          "model_name": "FloatProgressModel",
          "state": {
            "_dom_classes": [],
            "_model_module": "@jupyter-widgets/controls",
            "_model_module_version": "1.5.0",
            "_model_name": "FloatProgressModel",
            "_view_count": null,
            "_view_module": "@jupyter-widgets/controls",
            "_view_module_version": "1.5.0",
            "_view_name": "ProgressView",
            "bar_style": "danger",
            "description": "",
            "description_tooltip": null,
            "layout": "IPY_MODEL_5b0d8206ad7c4672a19da6adf4102e41",
            "max": 1,
            "min": 0,
            "orientation": "horizontal",
            "style": "IPY_MODEL_6beb89bc81e648f68a1d50956c070aad",
            "value": 0
          }
        },
        "ac162533195642c3bfe48901debc444a": {
          "model_module": "@jupyter-widgets/controls",
          "model_module_version": "1.5.0",
          "model_name": "HBoxModel",
          "state": {
            "_dom_classes": [],
            "_model_module": "@jupyter-widgets/controls",
            "_model_module_version": "1.5.0",
            "_model_name": "HBoxModel",
            "_view_count": null,
            "_view_module": "@jupyter-widgets/controls",
            "_view_module_version": "1.5.0",
            "_view_name": "HBoxView",
            "box_style": "",
            "children": [
              "IPY_MODEL_d1eb915bfa04407d931c76b4fd8b11b6",
              "IPY_MODEL_aa18b2b9d408449097b2fe9e5404e01b",
              "IPY_MODEL_61e1c19da37e42bdaa213c5f417621cc"
            ],
            "layout": "IPY_MODEL_f4c5aaace38247a9b1a7b7ee31e89fe9"
          }
        },
        "c18c4501bf47445cb310297e171a8d5d": {
          "model_module": "@jupyter-widgets/base",
          "model_module_version": "1.2.0",
          "model_name": "LayoutModel",
          "state": {
            "_model_module": "@jupyter-widgets/base",
            "_model_module_version": "1.2.0",
            "_model_name": "LayoutModel",
            "_view_count": null,
            "_view_module": "@jupyter-widgets/base",
            "_view_module_version": "1.2.0",
            "_view_name": "LayoutView",
            "align_content": null,
            "align_items": null,
            "align_self": null,
            "border": null,
            "bottom": null,
            "display": null,
            "flex": null,
            "flex_flow": null,
            "grid_area": null,
            "grid_auto_columns": null,
            "grid_auto_flow": null,
            "grid_auto_rows": null,
            "grid_column": null,
            "grid_gap": null,
            "grid_row": null,
            "grid_template_areas": null,
            "grid_template_columns": null,
            "grid_template_rows": null,
            "height": null,
            "justify_content": null,
            "justify_items": null,
            "left": null,
            "margin": null,
            "max_height": null,
            "max_width": null,
            "min_height": null,
            "min_width": null,
            "object_fit": null,
            "object_position": null,
            "order": null,
            "overflow": null,
            "overflow_x": null,
            "overflow_y": null,
            "padding": null,
            "right": null,
            "top": null,
            "visibility": null,
            "width": null
          }
        },
        "c793ac7ae3fb4ac797623ef1847efd9c": {
          "model_module": "@jupyter-widgets/controls",
          "model_module_version": "1.5.0",
          "model_name": "DescriptionStyleModel",
          "state": {
            "_model_module": "@jupyter-widgets/controls",
            "_model_module_version": "1.5.0",
            "_model_name": "DescriptionStyleModel",
            "_view_count": null,
            "_view_module": "@jupyter-widgets/base",
            "_view_module_version": "1.2.0",
            "_view_name": "StyleView",
            "description_width": ""
          }
        },
        "d1eb915bfa04407d931c76b4fd8b11b6": {
          "model_module": "@jupyter-widgets/controls",
          "model_module_version": "1.5.0",
          "model_name": "HTMLModel",
          "state": {
            "_dom_classes": [],
            "_model_module": "@jupyter-widgets/controls",
            "_model_module_version": "1.5.0",
            "_model_name": "HTMLModel",
            "_view_count": null,
            "_view_module": "@jupyter-widgets/controls",
            "_view_module_version": "1.5.0",
            "_view_name": "HTMLView",
            "description": "",
            "description_tooltip": null,
            "layout": "IPY_MODEL_501a1a2f42554003b1395b4b0d391b1a",
            "placeholder": "​",
            "style": "IPY_MODEL_f403773b4f2542e48bd91c9328300aed",
            "value": "  0%"
          }
        },
        "f1cc183a0ced424590b81c12617c2f76": {
          "model_module": "@jupyter-widgets/controls",
          "model_module_version": "1.5.0",
          "model_name": "HTMLModel",
          "state": {
            "_dom_classes": [],
            "_model_module": "@jupyter-widgets/controls",
            "_model_module_version": "1.5.0",
            "_model_name": "HTMLModel",
            "_view_count": null,
            "_view_module": "@jupyter-widgets/controls",
            "_view_module_version": "1.5.0",
            "_view_name": "HTMLView",
            "description": "",
            "description_tooltip": null,
            "layout": "IPY_MODEL_989246c8eb72402ea30b2cb69c9a28f6",
            "placeholder": "​",
            "style": "IPY_MODEL_5302e12540844322a08a2a6859228094",
            "value": " 97.8M/97.8M [00:00&lt;00:00, 234MB/s]"
          }
        },
        "f403773b4f2542e48bd91c9328300aed": {
          "model_module": "@jupyter-widgets/controls",
          "model_module_version": "1.5.0",
          "model_name": "DescriptionStyleModel",
          "state": {
            "_model_module": "@jupyter-widgets/controls",
            "_model_module_version": "1.5.0",
            "_model_name": "DescriptionStyleModel",
            "_view_count": null,
            "_view_module": "@jupyter-widgets/base",
            "_view_module_version": "1.2.0",
            "_view_name": "StyleView",
            "description_width": ""
          }
        },
        "f4c5aaace38247a9b1a7b7ee31e89fe9": {
          "model_module": "@jupyter-widgets/base",
          "model_module_version": "1.2.0",
          "model_name": "LayoutModel",
          "state": {
            "_model_module": "@jupyter-widgets/base",
            "_model_module_version": "1.2.0",
            "_model_name": "LayoutModel",
            "_view_count": null,
            "_view_module": "@jupyter-widgets/base",
            "_view_module_version": "1.2.0",
            "_view_name": "LayoutView",
            "align_content": null,
            "align_items": null,
            "align_self": null,
            "border": null,
            "bottom": null,
            "display": null,
            "flex": null,
            "flex_flow": null,
            "grid_area": null,
            "grid_auto_columns": null,
            "grid_auto_flow": null,
            "grid_auto_rows": null,
            "grid_column": null,
            "grid_gap": null,
            "grid_row": null,
            "grid_template_areas": null,
            "grid_template_columns": null,
            "grid_template_rows": null,
            "height": null,
            "justify_content": null,
            "justify_items": null,
            "left": null,
            "margin": null,
            "max_height": null,
            "max_width": null,
            "min_height": null,
            "min_width": null,
            "object_fit": null,
            "object_position": null,
            "order": null,
            "overflow": null,
            "overflow_x": null,
            "overflow_y": null,
            "padding": null,
            "right": null,
            "top": null,
            "visibility": null,
            "width": null
          }
        }
      }
    }
  },
  "nbformat": 4,
  "nbformat_minor": 0
}
